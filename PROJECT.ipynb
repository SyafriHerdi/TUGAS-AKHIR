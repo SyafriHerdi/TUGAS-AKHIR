{
 "cells": [
  {
   "cell_type": "code",
   "execution_count": 1,
   "id": "0e081d16",
   "metadata": {},
   "outputs": [],
   "source": [
    "import pandas as pd\n",
    "import numpy as np\n",
    "from matplotlib import pyplot as plt\n",
    "import seaborn as sns\n",
    "from sklearn.linear_model import Ridge\n",
    "\n",
    "from datetime import datetime, timedelta\n",
    "from dateutil import relativedelta \n",
    "from time import mktime\n",
    "\n",
    "import warnings\n",
    "warnings.filterwarnings('ignore')"
   ]
  },
  {
   "cell_type": "code",
   "execution_count": 2,
   "id": "f5e80f09",
   "metadata": {},
   "outputs": [],
   "source": [
    "def get_timestamp(dt):\n",
    "    format = \"%Y-%m-%d\"\n",
    "    return int(mktime(datetime.strptime(dt, format).timetuple()))"
   ]
  },
  {
   "cell_type": "code",
   "execution_count": 3,
   "id": "5b0afe85",
   "metadata": {},
   "outputs": [
    {
     "data": {
      "text/html": [
       "<div>\n",
       "<style scoped>\n",
       "    .dataframe tbody tr th:only-of-type {\n",
       "        vertical-align: middle;\n",
       "    }\n",
       "\n",
       "    .dataframe tbody tr th {\n",
       "        vertical-align: top;\n",
       "    }\n",
       "\n",
       "    .dataframe thead th {\n",
       "        text-align: right;\n",
       "    }\n",
       "</style>\n",
       "<table border=\"1\" class=\"dataframe\">\n",
       "  <thead>\n",
       "    <tr style=\"text-align: right;\">\n",
       "      <th></th>\n",
       "      <th>Date</th>\n",
       "      <th>Open</th>\n",
       "      <th>High</th>\n",
       "      <th>Low</th>\n",
       "      <th>Close</th>\n",
       "      <th>Adj Close</th>\n",
       "      <th>Volume</th>\n",
       "    </tr>\n",
       "  </thead>\n",
       "  <tbody>\n",
       "    <tr>\n",
       "      <th>0</th>\n",
       "      <td>2011-11-28</td>\n",
       "      <td>1510.0</td>\n",
       "      <td>1520.0</td>\n",
       "      <td>1490.0</td>\n",
       "      <td>1510.0</td>\n",
       "      <td>1315.964355</td>\n",
       "      <td>71170000</td>\n",
       "    </tr>\n",
       "    <tr>\n",
       "      <th>1</th>\n",
       "      <td>2011-11-29</td>\n",
       "      <td>1540.0</td>\n",
       "      <td>1570.0</td>\n",
       "      <td>1510.0</td>\n",
       "      <td>1540.0</td>\n",
       "      <td>1342.109375</td>\n",
       "      <td>91865000</td>\n",
       "    </tr>\n",
       "    <tr>\n",
       "      <th>2</th>\n",
       "      <td>2011-11-30</td>\n",
       "      <td>1580.0</td>\n",
       "      <td>1590.0</td>\n",
       "      <td>1540.0</td>\n",
       "      <td>1580.0</td>\n",
       "      <td>1376.969482</td>\n",
       "      <td>100960000</td>\n",
       "    </tr>\n",
       "    <tr>\n",
       "      <th>3</th>\n",
       "      <td>2011-12-01</td>\n",
       "      <td>1580.0</td>\n",
       "      <td>1580.0</td>\n",
       "      <td>1580.0</td>\n",
       "      <td>1580.0</td>\n",
       "      <td>1376.969482</td>\n",
       "      <td>0</td>\n",
       "    </tr>\n",
       "    <tr>\n",
       "      <th>4</th>\n",
       "      <td>2011-12-02</td>\n",
       "      <td>1600.0</td>\n",
       "      <td>1600.0</td>\n",
       "      <td>1580.0</td>\n",
       "      <td>1600.0</td>\n",
       "      <td>1394.399170</td>\n",
       "      <td>25070000</td>\n",
       "    </tr>\n",
       "  </tbody>\n",
       "</table>\n",
       "</div>"
      ],
      "text/plain": [
       "         Date    Open    High     Low   Close    Adj Close     Volume\n",
       "0  2011-11-28  1510.0  1520.0  1490.0  1510.0  1315.964355   71170000\n",
       "1  2011-11-29  1540.0  1570.0  1510.0  1540.0  1342.109375   91865000\n",
       "2  2011-11-30  1580.0  1590.0  1540.0  1580.0  1376.969482  100960000\n",
       "3  2011-12-01  1580.0  1580.0  1580.0  1580.0  1376.969482          0\n",
       "4  2011-12-02  1600.0  1600.0  1580.0  1600.0  1394.399170   25070000"
      ]
     },
     "execution_count": 3,
     "metadata": {},
     "output_type": "execute_result"
    }
   ],
   "source": [
    "ticker = 'BBCA'\n",
    "period1 = get_timestamp('2011-11-28') # 28-11-2011\n",
    "period2 = get_timestamp('2021-11-28') # 28-11-2021\n",
    "interval = '1d'\n",
    "url = f'https://query1.finance.yahoo.com/v7/finance/download/{ticker}.JK?period1={period1}&period2={period2}&interval={interval}&events=history&includeAdjustedClose=true'\n",
    "raw_data = pd.read_csv(url)\n",
    "\n",
    "raw_data.head()"
   ]
  },
  {
   "cell_type": "code",
   "execution_count": 4,
   "id": "5b7d2643",
   "metadata": {},
   "outputs": [
    {
     "data": {
      "text/html": [
       "<div>\n",
       "<style scoped>\n",
       "    .dataframe tbody tr th:only-of-type {\n",
       "        vertical-align: middle;\n",
       "    }\n",
       "\n",
       "    .dataframe tbody tr th {\n",
       "        vertical-align: top;\n",
       "    }\n",
       "\n",
       "    .dataframe thead th {\n",
       "        text-align: right;\n",
       "    }\n",
       "</style>\n",
       "<table border=\"1\" class=\"dataframe\">\n",
       "  <thead>\n",
       "    <tr style=\"text-align: right;\">\n",
       "      <th></th>\n",
       "      <th>Date</th>\n",
       "      <th>Close</th>\n",
       "    </tr>\n",
       "  </thead>\n",
       "  <tbody>\n",
       "    <tr>\n",
       "      <th>0</th>\n",
       "      <td>2011-11-28</td>\n",
       "      <td>1510.0</td>\n",
       "    </tr>\n",
       "    <tr>\n",
       "      <th>1</th>\n",
       "      <td>2011-11-29</td>\n",
       "      <td>1540.0</td>\n",
       "    </tr>\n",
       "    <tr>\n",
       "      <th>2</th>\n",
       "      <td>2011-11-30</td>\n",
       "      <td>1580.0</td>\n",
       "    </tr>\n",
       "    <tr>\n",
       "      <th>3</th>\n",
       "      <td>2011-12-01</td>\n",
       "      <td>1580.0</td>\n",
       "    </tr>\n",
       "    <tr>\n",
       "      <th>4</th>\n",
       "      <td>2011-12-02</td>\n",
       "      <td>1600.0</td>\n",
       "    </tr>\n",
       "  </tbody>\n",
       "</table>\n",
       "</div>"
      ],
      "text/plain": [
       "         Date   Close\n",
       "0  2011-11-28  1510.0\n",
       "1  2011-11-29  1540.0\n",
       "2  2011-11-30  1580.0\n",
       "3  2011-12-01  1580.0\n",
       "4  2011-12-02  1600.0"
      ]
     },
     "execution_count": 4,
     "metadata": {},
     "output_type": "execute_result"
    }
   ],
   "source": [
    "raw_data = raw_data[['Date', 'Close']]\n",
    "raw_data.head()"
   ]
  },
  {
   "cell_type": "code",
   "execution_count": 5,
   "id": "d9aa0439",
   "metadata": {},
   "outputs": [
    {
     "data": {
      "text/plain": [
       "Date     0\n",
       "Close    0\n",
       "dtype: int64"
      ]
     },
     "execution_count": 5,
     "metadata": {},
     "output_type": "execute_result"
    }
   ],
   "source": [
    "raw_data.isna().sum()"
   ]
  },
  {
   "cell_type": "code",
   "execution_count": 6,
   "id": "1a3bfec8",
   "metadata": {},
   "outputs": [],
   "source": [
    "raw_data = raw_data.fillna(method='ffill')"
   ]
  },
  {
   "cell_type": "code",
   "execution_count": 7,
   "id": "51c3c832",
   "metadata": {},
   "outputs": [
    {
     "data": {
      "text/plain": [
       "Date     0\n",
       "Close    0\n",
       "dtype: int64"
      ]
     },
     "execution_count": 7,
     "metadata": {},
     "output_type": "execute_result"
    }
   ],
   "source": [
    "raw_data.isna().sum()"
   ]
  },
  {
   "cell_type": "code",
   "execution_count": 8,
   "id": "3c60cdf8",
   "metadata": {},
   "outputs": [
    {
     "data": {
      "text/plain": [
       "(2487, 2)"
      ]
     },
     "execution_count": 8,
     "metadata": {},
     "output_type": "execute_result"
    }
   ],
   "source": [
    "raw_data.shape"
   ]
  },
  {
   "cell_type": "code",
   "execution_count": 9,
   "id": "7eb7e455",
   "metadata": {},
   "outputs": [
    {
     "data": {
      "text/plain": [
       "([], [])"
      ]
     },
     "execution_count": 9,
     "metadata": {},
     "output_type": "execute_result"
    },
    {
     "data": {
      "image/png": "[encoded data removed]",
      "text/plain": [
       "<Figure size 432x288 with 1 Axes>"
      ]
     },
     "metadata": {
      "needs_background": "light"
     },
     "output_type": "display_data"
    }
   ],
   "source": [
    "sns.lineplot(x='Date', y='Close', data=raw_data)\n",
    "plt.xticks([])"
   ]
  },
  {
   "cell_type": "code",
   "execution_count": 10,
   "id": "228f0476",
   "metadata": {},
   "outputs": [
    {
     "data": {
      "text/html": [
       "<div>\n",
       "<style scoped>\n",
       "    .dataframe tbody tr th:only-of-type {\n",
       "        vertical-align: middle;\n",
       "    }\n",
       "\n",
       "    .dataframe tbody tr th {\n",
       "        vertical-align: top;\n",
       "    }\n",
       "\n",
       "    .dataframe thead th {\n",
       "        text-align: right;\n",
       "    }\n",
       "</style>\n",
       "<table border=\"1\" class=\"dataframe\">\n",
       "  <thead>\n",
       "    <tr style=\"text-align: right;\">\n",
       "      <th></th>\n",
       "      <th>Close</th>\n",
       "      <th>Target</th>\n",
       "    </tr>\n",
       "  </thead>\n",
       "  <tbody>\n",
       "    <tr>\n",
       "      <th>2081</th>\n",
       "      <td>6304.6625</td>\n",
       "      <td>6310.0250</td>\n",
       "    </tr>\n",
       "    <tr>\n",
       "      <th>2082</th>\n",
       "      <td>6310.0250</td>\n",
       "      <td>6314.9375</td>\n",
       "    </tr>\n",
       "    <tr>\n",
       "      <th>2083</th>\n",
       "      <td>6314.9375</td>\n",
       "      <td>6319.8875</td>\n",
       "    </tr>\n",
       "    <tr>\n",
       "      <th>2084</th>\n",
       "      <td>6319.8875</td>\n",
       "      <td>6324.7625</td>\n",
       "    </tr>\n",
       "    <tr>\n",
       "      <th>2085</th>\n",
       "      <td>6324.7625</td>\n",
       "      <td>6329.6250</td>\n",
       "    </tr>\n",
       "  </tbody>\n",
       "</table>\n",
       "</div>"
      ],
      "text/plain": [
       "          Close     Target\n",
       "2081  6304.6625  6310.0250\n",
       "2082  6310.0250  6314.9375\n",
       "2083  6314.9375  6319.8875\n",
       "2084  6319.8875  6324.7625\n",
       "2085  6324.7625  6329.6250"
      ]
     },
     "execution_count": 10,
     "metadata": {},
     "output_type": "execute_result"
    }
   ],
   "source": [
    "window_size = 400\n",
    "smooth_data = [raw_data.Close[i-window_size:i].mean() for i in range(window_size, raw_data.shape[0])]\n",
    "data = pd.DataFrame({\n",
    "    'Close': smooth_data\n",
    "})\n",
    "data['Target'] = data['Close'].shift(-1)\n",
    "data = data.iloc[:-1]\n",
    "data.tail()"
   ]
  },
  {
   "cell_type": "code",
   "execution_count": 11,
   "id": "92023749",
   "metadata": {},
   "outputs": [
    {
     "data": {
      "text/html": [
       "<div>\n",
       "<style scoped>\n",
       "    .dataframe tbody tr th:only-of-type {\n",
       "        vertical-align: middle;\n",
       "    }\n",
       "\n",
       "    .dataframe tbody tr th {\n",
       "        vertical-align: top;\n",
       "    }\n",
       "\n",
       "    .dataframe thead th {\n",
       "        text-align: right;\n",
       "    }\n",
       "</style>\n",
       "<table border=\"1\" class=\"dataframe\">\n",
       "  <thead>\n",
       "    <tr style=\"text-align: right;\">\n",
       "      <th></th>\n",
       "      <th>Close</th>\n",
       "    </tr>\n",
       "  </thead>\n",
       "  <tbody>\n",
       "    <tr>\n",
       "      <th>0</th>\n",
       "      <td>1739.2500</td>\n",
       "    </tr>\n",
       "    <tr>\n",
       "      <th>1</th>\n",
       "      <td>1740.2000</td>\n",
       "    </tr>\n",
       "    <tr>\n",
       "      <th>2</th>\n",
       "      <td>1741.2500</td>\n",
       "    </tr>\n",
       "    <tr>\n",
       "      <th>3</th>\n",
       "      <td>1742.3500</td>\n",
       "    </tr>\n",
       "    <tr>\n",
       "      <th>4</th>\n",
       "      <td>1743.5000</td>\n",
       "    </tr>\n",
       "    <tr>\n",
       "      <th>...</th>\n",
       "      <td>...</td>\n",
       "    </tr>\n",
       "    <tr>\n",
       "      <th>2081</th>\n",
       "      <td>6304.6625</td>\n",
       "    </tr>\n",
       "    <tr>\n",
       "      <th>2082</th>\n",
       "      <td>6310.0250</td>\n",
       "    </tr>\n",
       "    <tr>\n",
       "      <th>2083</th>\n",
       "      <td>6314.9375</td>\n",
       "    </tr>\n",
       "    <tr>\n",
       "      <th>2084</th>\n",
       "      <td>6319.8875</td>\n",
       "    </tr>\n",
       "    <tr>\n",
       "      <th>2085</th>\n",
       "      <td>6324.7625</td>\n",
       "    </tr>\n",
       "  </tbody>\n",
       "</table>\n",
       "<p>2086 rows × 1 columns</p>\n",
       "</div>"
      ],
      "text/plain": [
       "          Close\n",
       "0     1739.2500\n",
       "1     1740.2000\n",
       "2     1741.2500\n",
       "3     1742.3500\n",
       "4     1743.5000\n",
       "...         ...\n",
       "2081  6304.6625\n",
       "2082  6310.0250\n",
       "2083  6314.9375\n",
       "2084  6319.8875\n",
       "2085  6324.7625\n",
       "\n",
       "[2086 rows x 1 columns]"
      ]
     },
     "execution_count": 11,
     "metadata": {},
     "output_type": "execute_result"
    }
   ],
   "source": [
    "X = data[['Close']]\n",
    "X"
   ]
  },
  {
   "cell_type": "code",
   "execution_count": 12,
   "id": "ce61e3a3",
   "metadata": {},
   "outputs": [
    {
     "data": {
      "text/plain": [
       "0       1740.2000\n",
       "1       1741.2500\n",
       "2       1742.3500\n",
       "3       1743.5000\n",
       "4       1744.5500\n",
       "          ...    \n",
       "2081    6310.0250\n",
       "2082    6314.9375\n",
       "2083    6319.8875\n",
       "2084    6324.7625\n",
       "2085    6329.6250\n",
       "Name: Target, Length: 2086, dtype: float64"
      ]
     },
     "execution_count": 12,
     "metadata": {},
     "output_type": "execute_result"
    }
   ],
   "source": [
    "y = data['Target']\n",
    "y"
   ]
  },
  {
   "cell_type": "code",
   "execution_count": 13,
   "id": "28e8dd42",
   "metadata": {},
   "outputs": [],
   "source": [
    "from sklearn.model_selection import train_test_split\n",
    "\n",
    "X_train, X_test, y_train, y_test = train_test_split(X, y, test_size=0.2, shuffle=False)"
   ]
  },
  {
   "cell_type": "code",
   "execution_count": 14,
   "id": "4dad6332",
   "metadata": {},
   "outputs": [
    {
     "data": {
      "text/plain": [
       "Ridge()"
      ]
     },
     "execution_count": 14,
     "metadata": {},
     "output_type": "execute_result"
    }
   ],
   "source": [
    "model = Ridge()\n",
    "model.fit(X_train, y_train)"
   ]
  },
  {
   "cell_type": "code",
   "execution_count": 15,
   "id": "f5815423",
   "metadata": {},
   "outputs": [
    {
     "data": {
      "text/plain": [
       "0.9993418161350397"
      ]
     },
     "execution_count": 15,
     "metadata": {},
     "output_type": "execute_result"
    }
   ],
   "source": [
    "model.score(X_test, y_test)"
   ]
  },
  {
   "cell_type": "code",
   "execution_count": 16,
   "id": "b0585d68",
   "metadata": {},
   "outputs": [],
   "source": [
    "def train_model(n_shift=1, window=400, alpha=1):\n",
    "    smooth_data = [raw_data.Close[i-window_size:i].mean() for i in range(window_size, raw_data.shape[0])]\n",
    "    data = pd.DataFrame({\n",
    "        'Close': smooth_data\n",
    "    })\n",
    "    data['Target'] = data['Close'].shift(-n_shift)\n",
    "    data = data.iloc[:-n_shift]\n",
    "    X = data[['Close']]\n",
    "    y = data['Target']\n",
    "    X_train, X_test, y_train, y_test = train_test_split(X, y, test_size=0.2, shuffle=False)\n",
    "    model = Ridge(alpha)\n",
    "    model.fit(X_train, y_train)\n",
    "    return model.score(X_test, y_test)"
   ]
  },
  {
   "cell_type": "code",
   "execution_count": 17,
   "id": "936c1dca",
   "metadata": {},
   "outputs": [
    {
     "data": {
      "text/plain": [
       "0.9993418161350397"
      ]
     },
     "execution_count": 17,
     "metadata": {},
     "output_type": "execute_result"
    }
   ],
   "source": [
    "train_model(n_shift=1)"
   ]
  },
  {
   "cell_type": "code",
   "execution_count": 18,
   "id": "eccf1cfd",
   "metadata": {},
   "outputs": [],
   "source": [
    "shifts = list(range(1,11))\n",
    "alphas = [.0001, .0005, .001, .005, .01, .05, .1, .3]\n",
    "\n",
    "params = [{\"shift\": s, \"alpha\": a} for s in shifts for a in alphas]"
   ]
  },
  {
   "cell_type": "code",
   "execution_count": 19,
   "id": "1fa38437",
   "metadata": {},
   "outputs": [],
   "source": [
    "performance = pd.DataFrame({\n",
    "    'shift': params,\n",
    "    'score': [train_model(n_shift=i['shift'], alpha=i['alpha']) for i in params] \n",
    "})"
   ]
  },
  {
   "cell_type": "code",
   "execution_count": 20,
   "id": "a2d18d2e",
   "metadata": {},
   "outputs": [
    {
     "data": {
      "text/html": [
       "<div>\n",
       "<style scoped>\n",
       "    .dataframe tbody tr th:only-of-type {\n",
       "        vertical-align: middle;\n",
       "    }\n",
       "\n",
       "    .dataframe tbody tr th {\n",
       "        vertical-align: top;\n",
       "    }\n",
       "\n",
       "    .dataframe thead th {\n",
       "        text-align: right;\n",
       "    }\n",
       "</style>\n",
       "<table border=\"1\" class=\"dataframe\">\n",
       "  <thead>\n",
       "    <tr style=\"text-align: right;\">\n",
       "      <th></th>\n",
       "      <th>shift</th>\n",
       "      <th>score</th>\n",
       "    </tr>\n",
       "  </thead>\n",
       "  <tbody>\n",
       "    <tr>\n",
       "      <th>7</th>\n",
       "      <td>{'shift': 1, 'alpha': 0.3}</td>\n",
       "      <td>0.999342</td>\n",
       "    </tr>\n",
       "    <tr>\n",
       "      <th>6</th>\n",
       "      <td>{'shift': 1, 'alpha': 0.1}</td>\n",
       "      <td>0.999342</td>\n",
       "    </tr>\n",
       "    <tr>\n",
       "      <th>5</th>\n",
       "      <td>{'shift': 1, 'alpha': 0.05}</td>\n",
       "      <td>0.999342</td>\n",
       "    </tr>\n",
       "    <tr>\n",
       "      <th>4</th>\n",
       "      <td>{'shift': 1, 'alpha': 0.01}</td>\n",
       "      <td>0.999342</td>\n",
       "    </tr>\n",
       "    <tr>\n",
       "      <th>3</th>\n",
       "      <td>{'shift': 1, 'alpha': 0.005}</td>\n",
       "      <td>0.999342</td>\n",
       "    </tr>\n",
       "    <tr>\n",
       "      <th>...</th>\n",
       "      <td>...</td>\n",
       "      <td>...</td>\n",
       "    </tr>\n",
       "    <tr>\n",
       "      <th>76</th>\n",
       "      <td>{'shift': 10, 'alpha': 0.01}</td>\n",
       "      <td>0.933031</td>\n",
       "    </tr>\n",
       "    <tr>\n",
       "      <th>75</th>\n",
       "      <td>{'shift': 10, 'alpha': 0.005}</td>\n",
       "      <td>0.933031</td>\n",
       "    </tr>\n",
       "    <tr>\n",
       "      <th>74</th>\n",
       "      <td>{'shift': 10, 'alpha': 0.001}</td>\n",
       "      <td>0.933031</td>\n",
       "    </tr>\n",
       "    <tr>\n",
       "      <th>73</th>\n",
       "      <td>{'shift': 10, 'alpha': 0.0005}</td>\n",
       "      <td>0.933031</td>\n",
       "    </tr>\n",
       "    <tr>\n",
       "      <th>72</th>\n",
       "      <td>{'shift': 10, 'alpha': 0.0001}</td>\n",
       "      <td>0.933031</td>\n",
       "    </tr>\n",
       "  </tbody>\n",
       "</table>\n",
       "<p>80 rows × 2 columns</p>\n",
       "</div>"
      ],
      "text/plain": [
       "                             shift     score\n",
       "7       {'shift': 1, 'alpha': 0.3}  0.999342\n",
       "6       {'shift': 1, 'alpha': 0.1}  0.999342\n",
       "5      {'shift': 1, 'alpha': 0.05}  0.999342\n",
       "4      {'shift': 1, 'alpha': 0.01}  0.999342\n",
       "3     {'shift': 1, 'alpha': 0.005}  0.999342\n",
       "..                             ...       ...\n",
       "76    {'shift': 10, 'alpha': 0.01}  0.933031\n",
       "75   {'shift': 10, 'alpha': 0.005}  0.933031\n",
       "74   {'shift': 10, 'alpha': 0.001}  0.933031\n",
       "73  {'shift': 10, 'alpha': 0.0005}  0.933031\n",
       "72  {'shift': 10, 'alpha': 0.0001}  0.933031\n",
       "\n",
       "[80 rows x 2 columns]"
      ]
     },
     "execution_count": 20,
     "metadata": {},
     "output_type": "execute_result"
    }
   ],
   "source": [
    "performance.sort_values(by='score', ascending=False)"
   ]
  },
  {
   "cell_type": "code",
   "execution_count": 21,
   "id": "3c1f71ce",
   "metadata": {},
   "outputs": [
    {
     "data": {
      "text/plain": [
       "Ridge(alpha=0.3)"
      ]
     },
     "execution_count": 21,
     "metadata": {},
     "output_type": "execute_result"
    }
   ],
   "source": [
    "final_model = Ridge(alpha = 0.3)\n",
    "final_model.fit(X_train, y_train)"
   ]
  },
  {
   "cell_type": "code",
   "execution_count": 22,
   "id": "a5aded80",
   "metadata": {},
   "outputs": [
    {
     "data": {
      "text/plain": [
       "0.9993418158577853"
      ]
     },
     "execution_count": 22,
     "metadata": {},
     "output_type": "execute_result"
    }
   ],
   "source": [
    "final_model.score(X_test, y_test)"
   ]
  },
  {
   "cell_type": "code",
   "execution_count": 23,
   "id": "58a28b6d",
   "metadata": {},
   "outputs": [],
   "source": [
    "predict = final_model.predict(X_test)"
   ]
  },
  {
   "cell_type": "code",
   "execution_count": 24,
   "id": "208e2fb3",
   "metadata": {},
   "outputs": [],
   "source": [
    "test_data = pd.DataFrame({\n",
    "    'Close': X_test['Close'],\n",
    "    'Target': predict\n",
    "})"
   ]
  },
  {
   "cell_type": "code",
   "execution_count": 25,
   "id": "b6dc0836",
   "metadata": {},
   "outputs": [
    {
     "data": {
      "text/html": [
       "<div>\n",
       "<style scoped>\n",
       "    .dataframe tbody tr th:only-of-type {\n",
       "        vertical-align: middle;\n",
       "    }\n",
       "\n",
       "    .dataframe tbody tr th {\n",
       "        vertical-align: top;\n",
       "    }\n",
       "\n",
       "    .dataframe thead th {\n",
       "        text-align: right;\n",
       "    }\n",
       "</style>\n",
       "<table border=\"1\" class=\"dataframe\">\n",
       "  <thead>\n",
       "    <tr style=\"text-align: right;\">\n",
       "      <th></th>\n",
       "      <th>Close</th>\n",
       "      <th>Target</th>\n",
       "    </tr>\n",
       "  </thead>\n",
       "  <tbody>\n",
       "    <tr>\n",
       "      <th>1668</th>\n",
       "      <td>5729.0750</td>\n",
       "      <td>5734.332012</td>\n",
       "    </tr>\n",
       "    <tr>\n",
       "      <th>1669</th>\n",
       "      <td>5732.6250</td>\n",
       "      <td>5737.885971</td>\n",
       "    </tr>\n",
       "    <tr>\n",
       "      <th>1670</th>\n",
       "      <td>5735.1500</td>\n",
       "      <td>5740.413787</td>\n",
       "    </tr>\n",
       "    <tr>\n",
       "      <th>1671</th>\n",
       "      <td>5738.0250</td>\n",
       "      <td>5743.291993</td>\n",
       "    </tr>\n",
       "    <tr>\n",
       "      <th>1672</th>\n",
       "      <td>5740.3625</td>\n",
       "      <td>5745.632099</td>\n",
       "    </tr>\n",
       "    <tr>\n",
       "      <th>...</th>\n",
       "      <td>...</td>\n",
       "      <td>...</td>\n",
       "    </tr>\n",
       "    <tr>\n",
       "      <th>2081</th>\n",
       "      <td>6304.6625</td>\n",
       "      <td>6310.561367</td>\n",
       "    </tr>\n",
       "    <tr>\n",
       "      <th>2082</th>\n",
       "      <td>6310.0250</td>\n",
       "      <td>6315.929846</td>\n",
       "    </tr>\n",
       "    <tr>\n",
       "      <th>2083</th>\n",
       "      <td>6314.9375</td>\n",
       "      <td>6320.847824</td>\n",
       "    </tr>\n",
       "    <tr>\n",
       "      <th>2084</th>\n",
       "      <td>6319.8875</td>\n",
       "      <td>6325.803344</td>\n",
       "    </tr>\n",
       "    <tr>\n",
       "      <th>2085</th>\n",
       "      <td>6324.7625</td>\n",
       "      <td>6330.683781</td>\n",
       "    </tr>\n",
       "  </tbody>\n",
       "</table>\n",
       "<p>418 rows × 2 columns</p>\n",
       "</div>"
      ],
      "text/plain": [
       "          Close       Target\n",
       "1668  5729.0750  5734.332012\n",
       "1669  5732.6250  5737.885971\n",
       "1670  5735.1500  5740.413787\n",
       "1671  5738.0250  5743.291993\n",
       "1672  5740.3625  5745.632099\n",
       "...         ...          ...\n",
       "2081  6304.6625  6310.561367\n",
       "2082  6310.0250  6315.929846\n",
       "2083  6314.9375  6320.847824\n",
       "2084  6319.8875  6325.803344\n",
       "2085  6324.7625  6330.683781\n",
       "\n",
       "[418 rows x 2 columns]"
      ]
     },
     "execution_count": 25,
     "metadata": {},
     "output_type": "execute_result"
    }
   ],
   "source": [
    "test_data"
   ]
  },
  {
   "cell_type": "code",
   "execution_count": 26,
   "id": "d9392131",
   "metadata": {},
   "outputs": [
    {
     "data": {
      "text/plain": [
       "0.9989457153568545"
      ]
     },
     "execution_count": 26,
     "metadata": {},
     "output_type": "execute_result"
    }
   ],
   "source": [
    "from sklearn.metrics import r2_score\n",
    "\n",
    "r2_score(test_data['Close'], predict)"
   ]
  },
  {
   "cell_type": "code",
   "execution_count": 27,
   "id": "7b205aea",
   "metadata": {},
   "outputs": [],
   "source": [
    "def train_model_for_ticker(ticker, date=datetime.today(), years=10):\n",
    "    period1 = get_timestamp(date.replace(year=date.year - years).strftime(\"%Y-%m-%d\"))\n",
    "    period2 = get_timestamp(date.strftime(\"%Y-%m-%d\"))\n",
    "    interval = '1d'\n",
    "    url = f'https://query1.finance.yahoo.com/v7/finance/download/{ticker}.JK?period1={period1}&period2={period2}&interval={interval}&events=history&includeAdjustedClose=true'\n",
    "    raw_data = pd.read_csv(url)\n",
    "    data = raw_data[['Date', 'Close']]\n",
    "    data = data.fillna(method='ffill')\n",
    "    \n",
    "    def train_model(data, n_shift=1, alpha=1, window_size=400, final=False):\n",
    "        last_data = data.iloc[-2:,:]\n",
    "        smooth_data = [data.Close[i-window_size:i].mean() for i in range(window_size, data.shape[0])]\n",
    "        data = pd.DataFrame({\n",
    "            'Close': smooth_data\n",
    "        })\n",
    "        data['Target'] = data['Close'].shift(-n_shift)\n",
    "        data = data.iloc[:-n_shift]\n",
    "        X = data[['Close']]\n",
    "        y = data['Target']\n",
    "        model = Ridge(alpha)\n",
    "        if not final:\n",
    "            X_train, X_test, y_train, y_test = train_test_split(X, y, test_size=0.2, shuffle=False)\n",
    "            model.fit(X_train, y_train)\n",
    "            return model, model.score(X_test, y_test)\n",
    "        else:\n",
    "            model.fit(X, y)\n",
    "            return {\n",
    "                \"model\": model,\n",
    "                \"last_date\": data.iloc[-1, 0],\n",
    "                \"Close\": raw_data.iloc[-2,1],\n",
    "                \"Target\": raw_data.iloc[-1,1]\n",
    "            }\n",
    "    \n",
    "    alphas = [.0001, .001, .01, .1, 1]\n",
    "    performance = pd.DataFrame({\n",
    "        'alpha': alphas,\n",
    "        'score': [train_model(data=data, alpha=a)[1] for a in alphas] \n",
    "    })\n",
    "    best = performance.sort_values(by='score', ascending=False).iloc[0, 0]\n",
    "            \n",
    "    return train_model(data, alpha=best, final=True)   \n"
   ]
  },
  {
   "cell_type": "code",
   "execution_count": 28,
   "id": "f1e377e0",
   "metadata": {},
   "outputs": [],
   "source": [
    "tickers = ['BBCA', 'SIDO', 'BBNI', 'PTBA', 'BMRI', 'BJTM']\n",
    "results = {ticker: train_model_for_ticker(ticker) for ticker in tickers}"
   ]
  },
  {
   "cell_type": "code",
   "execution_count": 29,
   "id": "289deb72",
   "metadata": {},
   "outputs": [
    {
     "data": {
      "text/html": [
       "<div>\n",
       "<style scoped>\n",
       "    .dataframe tbody tr th:only-of-type {\n",
       "        vertical-align: middle;\n",
       "    }\n",
       "\n",
       "    .dataframe tbody tr th {\n",
       "        vertical-align: top;\n",
       "    }\n",
       "\n",
       "    .dataframe thead th {\n",
       "        text-align: right;\n",
       "    }\n",
       "</style>\n",
       "<table border=\"1\" class=\"dataframe\">\n",
       "  <thead>\n",
       "    <tr style=\"text-align: right;\">\n",
       "      <th></th>\n",
       "      <th>model</th>\n",
       "      <th>last_date</th>\n",
       "      <th>Close</th>\n",
       "      <th>Target</th>\n",
       "    </tr>\n",
       "  </thead>\n",
       "  <tbody>\n",
       "    <tr>\n",
       "      <th>BBCA</th>\n",
       "      <td>Ridge()</td>\n",
       "      <td>6342.9</td>\n",
       "      <td>7275.0</td>\n",
       "      <td>7375.0</td>\n",
       "    </tr>\n",
       "    <tr>\n",
       "      <th>SIDO</th>\n",
       "      <td>Ridge()</td>\n",
       "      <td>745.530937</td>\n",
       "      <td>915.0</td>\n",
       "      <td>900.0</td>\n",
       "    </tr>\n",
       "    <tr>\n",
       "      <th>BBNI</th>\n",
       "      <td>Ridge()</td>\n",
       "      <td>5385.95</td>\n",
       "      <td>6800.0</td>\n",
       "      <td>6650.0</td>\n",
       "    </tr>\n",
       "    <tr>\n",
       "      <th>PTBA</th>\n",
       "      <td>Ridge()</td>\n",
       "      <td>2322.5625</td>\n",
       "      <td>2580.0</td>\n",
       "      <td>2600.0</td>\n",
       "    </tr>\n",
       "    <tr>\n",
       "      <th>BMRI</th>\n",
       "      <td>Ridge()</td>\n",
       "      <td>5969.825</td>\n",
       "      <td>7000.0</td>\n",
       "      <td>7075.0</td>\n",
       "    </tr>\n",
       "    <tr>\n",
       "      <th>BJTM</th>\n",
       "      <td>Ridge()</td>\n",
       "      <td>673.3025</td>\n",
       "      <td>750.0</td>\n",
       "      <td>750.0</td>\n",
       "    </tr>\n",
       "  </tbody>\n",
       "</table>\n",
       "</div>"
      ],
      "text/plain": [
       "        model   last_date   Close  Target\n",
       "BBCA  Ridge()      6342.9  7275.0  7375.0\n",
       "SIDO  Ridge()  745.530937   915.0   900.0\n",
       "BBNI  Ridge()     5385.95  6800.0  6650.0\n",
       "PTBA  Ridge()   2322.5625  2580.0  2600.0\n",
       "BMRI  Ridge()    5969.825  7000.0  7075.0\n",
       "BJTM  Ridge()    673.3025   750.0   750.0"
      ]
     },
     "execution_count": 29,
     "metadata": {},
     "output_type": "execute_result"
    }
   ],
   "source": [
    "models = pd.DataFrame(results).T\n",
    "models"
   ]
  },
  {
   "cell_type": "code",
   "execution_count": 30,
   "id": "b3b69d52",
   "metadata": {},
   "outputs": [],
   "source": [
    "def predict_price(rows, n_years):\n",
    "    model = rows.model\n",
    "    prices = [rows.Target]\n",
    "    days = n_years * 52\n",
    "    for i in range(days):\n",
    "        current = prices[i]\n",
    "        predict = model.predict(np.array([current]).reshape(-1,1))\n",
    "        prices.append(predict[0])\n",
    "    return prices[1:]"
   ]
  },
  {
   "cell_type": "code",
   "execution_count": 31,
   "id": "4574c32f",
   "metadata": {},
   "outputs": [],
   "source": [
    "def get_return(rows, n_years):\n",
    "    prices = predict_price(rows, n_years)\n",
    "    return prices[-1] / prices[0] - 1\n",
    "\n",
    "def get_cagr(rows, n_years):\n",
    "    rate = get_return(rows, n_years)\n",
    "    return np.sign(rate) * abs(rate) ** (n_years * 52) - 1 "
   ]
  },
  {
   "cell_type": "code",
   "execution_count": 32,
   "id": "4c21b6fb",
   "metadata": {},
   "outputs": [
    {
     "data": {
      "image/png": "[encoded data removed]",
      "text/plain": [
       "<Figure size 1080x864 with 6 Axes>"
      ]
     },
     "metadata": {
      "needs_background": "light"
     },
     "output_type": "display_data"
    }
   ],
   "source": [
    "plt.figure(figsize=(15,12))\n",
    "for i,ticker in enumerate(tickers):\n",
    "    price_prediction = predict_price(models.loc[ticker], 10)\n",
    "    plt.subplot(230+i+1)\n",
    "    ax = sns.lineplot(x=list(range(1,len(price_prediction)+1)), y=price_prediction)\n",
    "    ax.set_title(ticker)\n",
    "    ax.set_xlabel('day')   \n",
    "    ax.set_ylabel('price')"
   ]
  },
  {
   "cell_type": "code",
   "execution_count": 33,
   "id": "7b57039f",
   "metadata": {},
   "outputs": [
    {
     "data": {
      "text/plain": [
       "BBCA    0.244570\n",
       "SIDO    0.903481\n",
       "BBNI    0.037003\n",
       "PTBA   -0.084870\n",
       "BMRI    0.004237\n",
       "BJTM    0.045458\n",
       "dtype: float64"
      ]
     },
     "execution_count": 33,
     "metadata": {},
     "output_type": "execute_result"
    }
   ],
   "source": [
    "models.apply(lambda x: get_return(x, 10), axis=1)"
   ]
  },
  {
   "cell_type": "code",
   "execution_count": 34,
   "id": "6b2f4c0d",
   "metadata": {},
   "outputs": [
    {
     "data": {
      "text/plain": [
       "-0.08486966058300316"
      ]
     },
     "execution_count": 34,
     "metadata": {},
     "output_type": "execute_result"
    }
   ],
   "source": [
    "get_return(models.loc['PTBA'], 10)"
   ]
  }
 ],
 "metadata": {
  "kernelspec": {
   "display_name": "Python 3",
   "language": "python",
   "name": "python3"
  },
  "language_info": {
   "codemirror_mode": {
    "name": "ipython",
    "version": 3
   },
   "file_extension": ".py",
   "mimetype": "text/x-python",
   "name": "python",
   "nbconvert_exporter": "python",
   "pygments_lexer": "ipython3",
   "version": "3.8.8"
  }
 },
 "nbformat": 4,
 "nbformat_minor": 5
}
